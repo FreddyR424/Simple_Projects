{
 "cells": [
  {
   "cell_type": "markdown",
   "id": "3cb45f78",
   "metadata": {},
   "source": [
    "# Mobile Internet Usage Case Study (Hypothesis Testing)"
   ]
  },
  {
   "cell_type": "markdown",
   "id": "12f7bd5f",
   "metadata": {},
   "source": [
    "ExperienceMyServices reported that a typical American spends an average of 144 minutes (2.4 hours) per day accessing the Internet via a mobile device with a standard deviation of 110 minutes.\n",
    "\n",
    "To test the validity of this statement, you collected 30 samples from friends and family. The results for the time spent per day accessing the Internet via a mobile device (in minutes) are stored in \"InternetMobileTime.csv\"."
   ]
  },
  {
   "cell_type": "markdown",
   "id": "746bab6b",
   "metadata": {},
   "source": [
    "### Key Question"
   ]
  },
  {
   "cell_type": "markdown",
   "id": "30a9a969",
   "metadata": {},
   "source": [
    "Is there enough statistical evidence to conclude that the population mean time spent per day accessing the Internet via mobile device is different from 144 minutes? Use the p-value approach and a level of significance of 0.05."
   ]
  },
  {
   "cell_type": "code",
   "execution_count": 1,
   "id": "6c2ea6c7",
   "metadata": {},
   "outputs": [],
   "source": [
    "import pandas as pd  \n",
    "import numpy as np  \n",
    "import matplotlib.pyplot as plt  \n",
    "import seaborn as sns\n",
    "%matplotlib inline\n",
    "import scipy.stats as stats  "
   ]
  },
  {
   "cell_type": "code",
   "execution_count": 3,
   "id": "da6cb6b3",
   "metadata": {},
   "outputs": [
    {
     "data": {
      "text/html": [
       "<div>\n",
       "<style scoped>\n",
       "    .dataframe tbody tr th:only-of-type {\n",
       "        vertical-align: middle;\n",
       "    }\n",
       "\n",
       "    .dataframe tbody tr th {\n",
       "        vertical-align: top;\n",
       "    }\n",
       "\n",
       "    .dataframe thead th {\n",
       "        text-align: right;\n",
       "    }\n",
       "</style>\n",
       "<table border=\"1\" class=\"dataframe\">\n",
       "  <thead>\n",
       "    <tr style=\"text-align: right;\">\n",
       "      <th></th>\n",
       "      <th>Minutes</th>\n",
       "    </tr>\n",
       "  </thead>\n",
       "  <tbody>\n",
       "    <tr>\n",
       "      <th>0</th>\n",
       "      <td>72</td>\n",
       "    </tr>\n",
       "    <tr>\n",
       "      <th>1</th>\n",
       "      <td>144</td>\n",
       "    </tr>\n",
       "    <tr>\n",
       "      <th>2</th>\n",
       "      <td>48</td>\n",
       "    </tr>\n",
       "    <tr>\n",
       "      <th>3</th>\n",
       "      <td>72</td>\n",
       "    </tr>\n",
       "    <tr>\n",
       "      <th>4</th>\n",
       "      <td>36</td>\n",
       "    </tr>\n",
       "  </tbody>\n",
       "</table>\n",
       "</div>"
      ],
      "text/plain": [
       "   Minutes\n",
       "0       72\n",
       "1      144\n",
       "2       48\n",
       "3       72\n",
       "4       36"
      ]
     },
     "execution_count": 3,
     "metadata": {},
     "output_type": "execute_result"
    }
   ],
   "source": [
    "my_data = pd.read_csv('InternetMobileTime.csv')\n",
    "my_data.head()"
   ]
  },
  {
   "cell_type": "code",
   "execution_count": 15,
   "id": "cff148c1",
   "metadata": {},
   "outputs": [
    {
     "data": {
      "text/html": [
       "<div>\n",
       "<style scoped>\n",
       "    .dataframe tbody tr th:only-of-type {\n",
       "        vertical-align: middle;\n",
       "    }\n",
       "\n",
       "    .dataframe tbody tr th {\n",
       "        vertical-align: top;\n",
       "    }\n",
       "\n",
       "    .dataframe thead th {\n",
       "        text-align: right;\n",
       "    }\n",
       "</style>\n",
       "<table border=\"1\" class=\"dataframe\">\n",
       "  <thead>\n",
       "    <tr style=\"text-align: right;\">\n",
       "      <th></th>\n",
       "      <th>Minutes</th>\n",
       "    </tr>\n",
       "  </thead>\n",
       "  <tbody>\n",
       "    <tr>\n",
       "      <th>25</th>\n",
       "      <td>36</td>\n",
       "    </tr>\n",
       "    <tr>\n",
       "      <th>26</th>\n",
       "      <td>288</td>\n",
       "    </tr>\n",
       "    <tr>\n",
       "      <th>27</th>\n",
       "      <td>48</td>\n",
       "    </tr>\n",
       "    <tr>\n",
       "      <th>28</th>\n",
       "      <td>288</td>\n",
       "    </tr>\n",
       "    <tr>\n",
       "      <th>29</th>\n",
       "      <td>300</td>\n",
       "    </tr>\n",
       "  </tbody>\n",
       "</table>\n",
       "</div>"
      ],
      "text/plain": [
       "    Minutes\n",
       "25       36\n",
       "26      288\n",
       "27       48\n",
       "28      288\n",
       "29      300"
      ]
     },
     "execution_count": 15,
     "metadata": {},
     "output_type": "execute_result"
    }
   ],
   "source": [
    "my_data.tail()"
   ]
  },
  {
   "cell_type": "code",
   "execution_count": 16,
   "id": "9cfcf61e",
   "metadata": {},
   "outputs": [
    {
     "data": {
      "text/plain": [
       "(30, 1)"
      ]
     },
     "execution_count": 16,
     "metadata": {},
     "output_type": "execute_result"
    }
   ],
   "source": [
    "my_data.shape"
   ]
  },
  {
   "cell_type": "code",
   "execution_count": 17,
   "id": "c728c896",
   "metadata": {},
   "outputs": [
    {
     "data": {
      "text/plain": [
       "30"
      ]
     },
     "execution_count": 17,
     "metadata": {},
     "output_type": "execute_result"
    }
   ],
   "source": [
    "my_data.size"
   ]
  },
  {
   "cell_type": "markdown",
   "id": "dae6e8d0",
   "metadata": {},
   "source": [
    "# Steps of Hypothesis Testing"
   ]
  },
  {
   "cell_type": "markdown",
   "id": "5d0e1aec",
   "metadata": {},
   "source": [
    "\n",
    "### Step 1: Define the null and the alternate hypotheses\n",
    "\n",
    "Null hypothesis states that the mean Internet usage time, μ\n",
    "is equal to 144. Alternative hypothesis states that the mean Internet usage time, μ is not equal to 144.\n",
    "\n",
    "H0 : μ = 144\n",
    "\n",
    "Ha : μ ≠ 144\n",
    "\n",
    "### Step 2: Decide the significance level\n",
    "\n",
    "Here, we are given that α = 0.05."
   ]
  },
  {
   "cell_type": "code",
   "execution_count": 6,
   "id": "8b008988",
   "metadata": {},
   "outputs": [
    {
     "name": "stdout",
     "output_type": "stream",
     "text": [
      "The sample size for this problem is 30\n"
     ]
    }
   ],
   "source": [
    "print(\"The sample size for this problem is\", len(my_data))"
   ]
  },
  {
   "cell_type": "markdown",
   "id": "785c3883",
   "metadata": {},
   "source": [
    "### Step 3: Identify the test statistic\n",
    "\n",
    "The population is normally distributed and the population standard deviation is known to be equal to 110. So, we can use the Z-test statistic.\n",
    "\n",
    "### Step 4: Calculate the p-value using z-statistic"
   ]
  },
  {
   "cell_type": "code",
   "execution_count": 7,
   "id": "51342722",
   "metadata": {},
   "outputs": [],
   "source": [
    "sample_mean = my_data[\"Minutes\"].mean()"
   ]
  },
  {
   "cell_type": "code",
   "execution_count": 9,
   "id": "26320c4a",
   "metadata": {},
   "outputs": [
    {
     "data": {
      "text/plain": [
       "1.8157832663959144"
      ]
     },
     "execution_count": 9,
     "metadata": {},
     "output_type": "execute_result"
    }
   ],
   "source": [
    "# Calculating the z-stat\n",
    "\n",
    "n = 30\n",
    "mu = 144  \n",
    "sigma = 110\n",
    "\n",
    "test_stat =  (sample_mean - mu) / (sigma / np.sqrt(n)) \n",
    "test_stat"
   ]
  },
  {
   "cell_type": "code",
   "execution_count": 10,
   "id": "d3b67740",
   "metadata": {},
   "outputs": [
    {
     "name": "stdout",
     "output_type": "stream",
     "text": [
      "The p-value is: 0.06940362517785204 \n"
     ]
    }
   ],
   "source": [
    "from scipy.stats import norm\n",
    "\n",
    "# The p-value for one-tailed test\n",
    "p_value1 = 1 - norm.cdf(test_stat)\n",
    "\n",
    "# We can find the p_value for the the two-tailed test from the one-tailed test\n",
    "p_value_ztest = p_value1 * 2\n",
    "\n",
    "print('The p-value is: {0} '.format(p_value_ztest))"
   ]
  },
  {
   "cell_type": "markdown",
   "id": "d63f7116",
   "metadata": {},
   "source": [
    "### Step 5: Decide to reject or fail to reject the null hypothesis based on the z-statistic"
   ]
  },
  {
   "cell_type": "code",
   "execution_count": 11,
   "id": "719e503c",
   "metadata": {},
   "outputs": [
    {
     "name": "stdout",
     "output_type": "stream",
     "text": [
      "Level of significance: 0.05\n",
      "We do not have sufficient evidence to reject the null hypothesis as the p-value is greater than the level of significance\n"
     ]
    }
   ],
   "source": [
    "alpha_value = 0.05 # Level of significance\n",
    "\n",
    "print('Level of significance: %.2f' %alpha_value)\n",
    "\n",
    "if p_value_ztest < alpha_value: \n",
    "    print('We have the evidence to reject the null hypothesis as the p-value is less than the level of significance'.format(p_value_ztest))\n",
    "else:\n",
    "    print('We do not have sufficient evidence to reject the null hypothesis as the p-value is greater than the level of significance'.format(p_value_ztest)) "
   ]
  },
  {
   "cell_type": "markdown",
   "id": "2332e323",
   "metadata": {},
   "source": [
    "We have calculated the z-statistic, which works on the assumption that population standard deviation is known but in real life, this assumption is very unlikely, and to deal with this problem there is another test called t-statistic, which is similar to z-statistic, with the assumption that population standard deviation is not known and sample standard deviation is used to calculate the test statistic.\n",
    "\n",
    "We will use scipy.stats.ttest_1samp which calculates the t-test for the mean of one sample given the sample observations. This function returns the t statistic and the p-value for a two-tailed t-test."
   ]
  },
  {
   "cell_type": "markdown",
   "id": "b26d76ed",
   "metadata": {},
   "source": [
    "### Step 6: Calculate the p-value using t-statistic"
   ]
  },
  {
   "cell_type": "code",
   "execution_count": 13,
   "id": "2249b339",
   "metadata": {},
   "outputs": [
    {
     "name": "stdout",
     "output_type": "stream",
     "text": [
      "One sample t-test \n",
      "t statistic: [1.41131966] p value: [0.16878961] \n"
     ]
    }
   ],
   "source": [
    "t_statistic, p_value_ttest = stats.ttest_1samp(my_data, popmean = 144)\n",
    "print('One sample t-test \\nt statistic: {0} p value: {1} '.format(t_statistic, p_value_ttest))"
   ]
  },
  {
   "cell_type": "markdown",
   "id": "671ed748",
   "metadata": {},
   "source": [
    "### Step 7: Decide to reject or not to reject the null hypothesis based on t-statistic"
   ]
  },
  {
   "cell_type": "code",
   "execution_count": 14,
   "id": "e33c87ea",
   "metadata": {},
   "outputs": [
    {
     "name": "stdout",
     "output_type": "stream",
     "text": [
      "Level of significance: 0.05\n",
      "We do not have sufficient evidence to reject the null hypothesis as the p-value is greater than the level of significance\n"
     ]
    }
   ],
   "source": [
    "alpha_value = 0.05 # Level of significance\n",
    "\n",
    "print('Level of significance: %.2f' %alpha_value)\n",
    "\n",
    "if p_value_ttest < alpha_value: \n",
    "    print('We have the evidence to reject the null hypothesis as the p-value is less than the level of significance'.format(p_value_ttest))\n",
    "else:\n",
    "    print('We do not have sufficient evidence to reject the null hypothesis as the p-value is greater than the level of significance'.format(p_value_ttest)) "
   ]
  },
  {
   "cell_type": "markdown",
   "id": "ad284945",
   "metadata": {},
   "source": [
    "\n",
    "\n",
    "### Observation:\n",
    "\n",
    "At a 5% significance level, we do not have enough statistical evidence to prove that the mean time spent on the Internet is not equal to 144 minutes.\n",
    "\n"
   ]
  },
  {
   "cell_type": "markdown",
   "id": "85bed2da",
   "metadata": {},
   "source": [
    "###  *Assuming the Null Hypothesis is true, the P-value is the probability of the sample statistics occuring 'Just by chance'"
   ]
  }
 ],
 "metadata": {
  "kernelspec": {
   "display_name": "Python 3 (ipykernel)",
   "language": "python",
   "name": "python3"
  },
  "language_info": {
   "codemirror_mode": {
    "name": "ipython",
    "version": 3
   },
   "file_extension": ".py",
   "mimetype": "text/x-python",
   "name": "python",
   "nbconvert_exporter": "python",
   "pygments_lexer": "ipython3",
   "version": "3.9.12"
  }
 },
 "nbformat": 4,
 "nbformat_minor": 5
}
